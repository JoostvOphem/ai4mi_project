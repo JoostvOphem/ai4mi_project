{
 "cells": [
  {
   "cell_type": "code",
   "execution_count": 1,
   "id": "cf9b9c7d",
   "metadata": {},
   "outputs": [
    {
     "name": "stdout",
     "output_type": "stream",
     "text": [
      "no change     /home/erik/miniconda3/condabin/conda\n",
      "no change     /home/erik/miniconda3/bin/conda\n",
      "no change     /home/erik/miniconda3/bin/conda-env\n",
      "no change     /home/erik/miniconda3/bin/activate\n",
      "no change     /home/erik/miniconda3/bin/deactivate\n",
      "no change     /home/erik/miniconda3/etc/profile.d/conda.sh\n",
      "no change     /home/erik/miniconda3/etc/fish/conf.d/conda.fish\n",
      "no change     /home/erik/miniconda3/shell/condabin/Conda.psm1\n",
      "no change     /home/erik/miniconda3/shell/condabin/conda-hook.ps1\n",
      "no change     /home/erik/miniconda3/lib/python3.11/site-packages/xontrib/conda.xsh\n",
      "no change     /home/erik/miniconda3/etc/profile.d/conda.csh\n",
      "no change     /home/erik/.bashrc\n",
      "No action taken.\n",
      "\n",
      "CondaError: Run 'conda init' before 'conda activate'\n",
      "\n"
     ]
    }
   ],
   "source": [
    "!conda init\n",
    "!conda activate env_xct"
   ]
  },
  {
   "cell_type": "code",
   "execution_count": 2,
   "id": "8ef54c85",
   "metadata": {},
   "outputs": [
    {
     "name": "stderr",
     "output_type": "stream",
     "text": [
      "/usr/lib/python3/dist-packages/scipy/__init__.py:146: UserWarning: A NumPy version >=1.17.3 and <1.25.0 is required for this version of SciPy (detected version 1.26.4\n",
      "  warnings.warn(f\"A NumPy version >={np_minversion} and <{np_maxversion}\"\n"
     ]
    },
    {
     "ename": "ModuleNotFoundError",
     "evalue": "No module named 'skimage'",
     "output_type": "error",
     "traceback": [
      "\u001b[0;31m---------------------------------------------------------------------------\u001b[0m",
      "\u001b[0;31mModuleNotFoundError\u001b[0m                       Traceback (most recent call last)",
      "\u001b[0;32m/tmp/ipykernel_7319/2228154938.py\u001b[0m in \u001b[0;36m<module>\u001b[0;34m\u001b[0m\n\u001b[1;32m      1\u001b[0m \u001b[0;32mimport\u001b[0m \u001b[0msys\u001b[0m\u001b[0;34m\u001b[0m\u001b[0;34m\u001b[0m\u001b[0m\n\u001b[1;32m      2\u001b[0m \u001b[0msys\u001b[0m\u001b[0;34m.\u001b[0m\u001b[0mpath\u001b[0m\u001b[0;34m.\u001b[0m\u001b[0minsert\u001b[0m\u001b[0;34m(\u001b[0m\u001b[0;36m1\u001b[0m\u001b[0;34m,\u001b[0m \u001b[0;34m'imppy3d-main/functions'\u001b[0m\u001b[0;34m)\u001b[0m\u001b[0;34m\u001b[0m\u001b[0;34m\u001b[0m\u001b[0m\n\u001b[0;32m----> 3\u001b[0;31m \u001b[0;32mimport\u001b[0m \u001b[0mvolume_image_processing\u001b[0m \u001b[0;32mas\u001b[0m \u001b[0mvol\u001b[0m\u001b[0;34m\u001b[0m\u001b[0;34m\u001b[0m\u001b[0m\n\u001b[0m",
      "\u001b[0;32m~/Documents/UvA master AI/jaar 2/ai4mi/ai4mi_project/notebooks/imppy3d-main/functions/volume_image_processing.py\u001b[0m in \u001b[0;36m<module>\u001b[0;34m\u001b[0m\n\u001b[1;32m      3\u001b[0m \u001b[0;32mfrom\u001b[0m \u001b[0mscipy\u001b[0m \u001b[0;32mimport\u001b[0m \u001b[0mspatial\u001b[0m \u001b[0;32mas\u001b[0m \u001b[0mspt\u001b[0m\u001b[0;34m\u001b[0m\u001b[0;34m\u001b[0m\u001b[0m\n\u001b[1;32m      4\u001b[0m \u001b[0;31m#from scipy.spatial import transform as trfm\u001b[0m\u001b[0;34m\u001b[0m\u001b[0;34m\u001b[0m\u001b[0m\n\u001b[0;32m----> 5\u001b[0;31m \u001b[0;32mfrom\u001b[0m \u001b[0mskimage\u001b[0m \u001b[0;32mimport\u001b[0m \u001b[0mtransform\u001b[0m \u001b[0;32mas\u001b[0m \u001b[0mtran\u001b[0m\u001b[0;34m\u001b[0m\u001b[0;34m\u001b[0m\u001b[0m\n\u001b[0m\u001b[1;32m      6\u001b[0m \u001b[0;32mfrom\u001b[0m \u001b[0mskimage\u001b[0m \u001b[0;32mimport\u001b[0m \u001b[0mmeasure\u001b[0m \u001b[0;32mas\u001b[0m \u001b[0mmeas\u001b[0m\u001b[0;34m\u001b[0m\u001b[0;34m\u001b[0m\u001b[0m\n\u001b[1;32m      7\u001b[0m \u001b[0;32mfrom\u001b[0m \u001b[0mskimage\u001b[0m \u001b[0;32mimport\u001b[0m \u001b[0msegmentation\u001b[0m \u001b[0;32mas\u001b[0m \u001b[0mseg\u001b[0m\u001b[0;34m\u001b[0m\u001b[0;34m\u001b[0m\u001b[0m\n",
      "\u001b[0;31mModuleNotFoundError\u001b[0m: No module named 'skimage'"
     ]
    }
   ],
   "source": [
    "import sys\n",
    "sys.path.insert(1, 'imppy3d-main/functions') \n",
    "import volume_image_processing as vol"
   ]
  },
  {
   "cell_type": "code",
   "execution_count": null,
   "id": "88672eb2",
   "metadata": {},
   "outputs": [],
   "source": [
    "imgs_orig = vol.img_rotate_3D(imgs_orig, rot_axis, rot_angle, binarize=True)"
   ]
  }
 ],
 "metadata": {
  "kernelspec": {
   "display_name": "Python 3 (ipykernel)",
   "language": "python",
   "name": "python3"
  },
  "language_info": {
   "codemirror_mode": {
    "name": "ipython",
    "version": 3
   },
   "file_extension": ".py",
   "mimetype": "text/x-python",
   "name": "python",
   "nbconvert_exporter": "python",
   "pygments_lexer": "ipython3",
   "version": "3.10.12"
  }
 },
 "nbformat": 4,
 "nbformat_minor": 5
}
