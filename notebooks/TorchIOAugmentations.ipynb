{
 "cells": [
  {
   "cell_type": "code",
   "execution_count": 5,
   "id": "2dda7231-f409-4ee3-a2f9-a4e381f107a4",
   "metadata": {},
   "outputs": [],
   "source": [
    "import numpy as np\n",
    "import nibabel as nib\n",
    "import torchio as tio\n",
    "import torch\n",
    "from pathlib import Path"
   ]
  },
  {
   "cell_type": "code",
   "execution_count": 86,
   "id": "d2fe61b4-51f6-40b5-b45f-1db13e8e77c5",
   "metadata": {},
   "outputs": [],
   "source": [
    "base_path = Path(\"..\") / \"data\" / \"segthor_train\" / \"train\""
   ]
  },
  {
   "cell_type": "code",
   "execution_count": 90,
   "id": "c986c31a-9333-431b-b6b3-341298e0829b",
   "metadata": {},
   "outputs": [],
   "source": [
    "noise_transform = tio.transforms.RandomNoise(mean=0, std=0.05, p=0.5) # some higher std or p might be good\n",
    "elastic_transform = tio.RandomElasticDeformation(\n",
    "    num_control_points=7,  # More control points for finer, local deformations\n",
    "    max_displacement=(3, 3, 3),  # Maximum displacement in mm, we still need to talk about this\n",
    "    locked_borders=2  # Avoids border distortions\n",
    ")\n",
    "composed_transform = tio.transforms.Compose([\n",
    "    elastic_transform,\n",
    "    noise_transform\n",
    "])"
   ]
  },
  {
   "cell_type": "code",
   "execution_count": 94,
   "id": "33b70fca-603e-4672-b4d6-4de89a8943ad",
   "metadata": {},
   "outputs": [],
   "source": [
    "for patient_ID in range(1, 41):\n",
    "    patient_ID = \"{:02d}\".format(patient_ID)\n",
    "    print(f\"working on patient\", patient_ID)\n",
    "    path_to_ground_truth = base_path / f\"Patient_{patient_ID}\" / \"GT.nii\" / \"real_GT.nii.gz\"\n",
    "    path_to_patient = base_path / f\"Patient_{patient_ID}\" / f\"Patient_{patient_ID}.nii\" / f\"Patient_{patient_ID}.nii\"\n",
    "\n",
    "    subject = tio.Subject(\n",
    "        patient=tio.ScalarImage(path_to_patient),\n",
    "        GT=tio.LabelMap(path_to_ground_truth)\n",
    "    )\n",
    "    transformed_subject = composed_transform(subject)\n",
    "\n",
    "    augmented_patient_path = base_path / f\"Patient_{patient_ID}\" / \"augmented\" / \"augmented_patient.nii\"\n",
    "    augmented_GT_path = base_path / f\"Patient_{patient_ID}\" / \"augmented\" / \"augmented_GT.nii\"\n",
    "    \n",
    "    # Create the directories if they don't exist\n",
    "    augmented_patient_path.parent.mkdir(parents=True, exist_ok=True)\n",
    "    augmented_GT_path.parent.mkdir(parents=True, exist_ok=True)\n",
    "    \n",
    "    # save the transformed images\n",
    "    transformed_subject['patient'].save(augmented_patient_path)\n",
    "    transformed_subject['GT'].save(augmented_GT_path)\n",
    "print(\"done\")"
   ]
  }
 ],
 "metadata": {
  "kernelspec": {
   "display_name": "Python 3 (ipykernel)",
   "language": "python",
   "name": "python3"
  },
  "language_info": {
   "codemirror_mode": {
    "name": "ipython",
    "version": 3
   },
   "file_extension": ".py",
   "mimetype": "text/x-python",
   "name": "python",
   "nbconvert_exporter": "python",
   "pygments_lexer": "ipython3",
   "version": "3.11.9"
  }
 },
 "nbformat": 4,
 "nbformat_minor": 5
}
