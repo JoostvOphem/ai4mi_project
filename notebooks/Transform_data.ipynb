{
 "cells": [
  {
   "cell_type": "code",
   "execution_count": 5,
   "id": "8d467f2c-43cc-4d9b-a786-1939aac3d047",
   "metadata": {},
   "outputs": [],
   "source": [
    "import numpy as np\n",
    "import nibabel as nib\n",
    "from pathlib import Path"
   ]
  },
  {
   "cell_type": "code",
   "execution_count": 12,
   "id": "4349ec17-08e8-4508-857d-3b4fb37ac93f",
   "metadata": {},
   "outputs": [],
   "source": [
    "real_27 = nib.load(Path(\"..\") / \"data\" / \"segthor_train\" / \"train\" / \"Patient_27\" / \"GT2.nii.gz\")\n",
    "fake_27 = nib.load(Path(\"..\") / \"data\" / \"segthor_train\" / \"train\" / \"Patient_27\" / \"GT.nii.gz\")\n",
    "real_27_array = np.array(real_27.dataobj)\n",
    "fake_27_array = np.array(fake_27.dataobj)\n",
    "\n",
    "# look only to transform the heart\n",
    "real_27_array = (real_27_array == 2)\n",
    "fake_27_array = (fake_27_array == 2)"
   ]
  },
  {
   "cell_type": "code",
   "execution_count": 13,
   "id": "e744b2fd-298e-4f3c-b1a9-478c8e565735",
   "metadata": {},
   "outputs": [
    {
     "name": "stdout",
     "output_type": "stream",
     "text": [
      "[66.58184178 38.56866728 14.99958567]\n"
     ]
    }
   ],
   "source": [
    "# find translation vector\n",
    "def find_centroid(array):\n",
    "    indices = np.argwhere(array == 1)  # Find points where array == 1\n",
    "    centroid = np.mean(indices, axis=0)  # Compute mean of these points\n",
    "    return centroid\n",
    "\n",
    "centroid_real = find_centroid(real_27_array)\n",
    "centroid_fake = find_centroid(fake_27_array)\n",
    "\n",
    "translation_vector = centroid_real - centroid_fake\n",
    "print(translation_vector)"
   ]
  },
  {
   "cell_type": "code",
   "execution_count": 14,
   "id": "bd9a323f-e850-405e-ade0-d15754215bf2",
   "metadata": {},
   "outputs": [],
   "source": [
    "# tranlate the heart of the specific patient\n",
    "\n",
    "def translate_array(array, translation_vector):\n",
    "    # Find the indices of the non-zero (1) elements\n",
    "    indices = np.argwhere(array == 1)\n",
    "    \n",
    "    # Apply translation to the indices\n",
    "    translated_indices = indices + translation_vector\n",
    "    \n",
    "    # Create a new array with the same shape as the input array\n",
    "    translated_array = np.zeros_like(array)\n",
    "    \n",
    "    # Set the translated indices to 1\n",
    "    for ind in translated_indices.astype(int):\n",
    "        translated_array[tuple(ind)] = 1\n",
    "    \n",
    "    return translated_array"
   ]
  },
  {
   "cell_type": "code",
   "execution_count": 15,
   "id": "993b517f-200e-4107-ae00-c7e13d0ffc82",
   "metadata": {},
   "outputs": [],
   "source": [
    "def save_array_ass_nii(array, filename, fake_GT):\n",
    "    \"\"\"\n",
    "    Converts a 3D NumPy array into a NIfTI (.nii) file.\n",
    "    \n",
    "    Args:\n",
    "        array (np.ndarray): 3D NumPy array to be converted.\n",
    "        filename (str): Path to save the NIfTI file (with .nii extension).\n",
    "    \n",
    "    Returns:\n",
    "        None\n",
    "    \"\"\"\n",
    "    # Convert NumPy array to a NIfTI image\n",
    "    nii_image = nib.Nifti1Image(array, affine=fake_GT.affine, header=fake_GT.header)\n",
    "    \n",
    "    # Save the NIfTI image to a file\n",
    "    nib.save(nii_image, filename)"
   ]
  },
  {
   "cell_type": "code",
   "execution_count": null,
   "id": "b8d097d4-602a-435f-bb2a-e0914b428365",
   "metadata": {},
   "outputs": [
    {
     "name": "stdout",
     "output_type": "stream",
     "text": [
      "working on patient 01\n",
      "working on patient 02\n",
      "working on patient 03\n",
      "working on patient 04\n",
      "working on patient 05\n"
     ]
    }
   ],
   "source": [
    "# iterate over patients\n",
    "for patient_number in range(1, 40):\n",
    "    if patient_number < 10:\n",
    "        patient_number = \"0\" + str(patient_number)\n",
    "    print(f\"working on patient {patient_number}\")\n",
    "    fake_nii = nib.load(Path(\"..\") / \"data\" / \"segthor_train\" / \"train\" / f\"Patient_{patient_number}\" / \"GT.nii.gz\")\n",
    "    fake_array = np.array(fake_nii.dataobj)\n",
    "\n",
    "    # save non-heart organs\n",
    "    saved_fake_array = np.copy(fake_array)\n",
    "    saved_fake_array[saved_fake_array == 2] = 0\n",
    "\n",
    "    # mask with only the heart\n",
    "    fake_array = (fake_array == 2)\n",
    "\n",
    "    translated_fake_array = translate_array(fake_array, translation_vector)\n",
    "\n",
    "    # re-add the other organs\n",
    "    saved_fake_array[translated_fake_array == 1] = 2\n",
    "\n",
    "    # save the found array\n",
    "    save_array_ass_nii(saved_fake_array, Path(\"..\") / \"data\" / \"segthor_train\" / \"train\" / f\"Patient_{patient_number}\" / \"real_GT.nii.gz\", fake_nii)\n",
    "print(\"Done\")"
   ]
  },
  {
   "cell_type": "code",
   "execution_count": null,
   "id": "d0c5444d-a858-458c-aab0-c65f43a25b9a",
   "metadata": {},
   "outputs": [],
   "source": []
  }
 ],
 "metadata": {
  "kernelspec": {
   "display_name": "Python 3 (ipykernel)",
   "language": "python",
   "name": "python3"
  },
  "language_info": {
   "codemirror_mode": {
    "name": "ipython",
    "version": 3
   },
   "file_extension": ".py",
   "mimetype": "text/x-python",
   "name": "python",
   "nbconvert_exporter": "python",
   "pygments_lexer": "ipython3",
   "version": "3.10.12"
  }
 },
 "nbformat": 4,
 "nbformat_minor": 5
}
