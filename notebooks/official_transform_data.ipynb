{
 "cells": [
  {
   "cell_type": "markdown",
   "id": "84f0e27e-9d7a-49e5-b80d-22acffd74b18",
   "metadata": {},
   "source": [
    "We initially had a different way of finding the matrix but decided it would be worth using the official numbers given via the canvas announcement for fixing the data."
   ]
  },
  {
   "cell_type": "code",
   "execution_count": 1,
   "id": "84da550c-f9a5-48e9-8dd0-8db034482b8d",
   "metadata": {},
   "outputs": [],
   "source": [
    "import numpy as np\n",
    "from numpy import pi as π\n",
    "import nibabel as nib\n",
    "from pathlib import Path\n",
    "from scipy.ndimage import affine_transform"
   ]
  },
  {
   "cell_type": "code",
   "execution_count": 2,
   "id": "cd3c8347-a59e-423a-bd66-4f692fbfb7d9",
   "metadata": {},
   "outputs": [],
   "source": [
    "# copied from announcement on Canva\n",
    "\n",
    "#!/usr/bin/env python3.10\n",
    "\n",
    "# MIT License\n",
    "\n",
    "# Copyright (c) 2024 Hoel Kervadec\n",
    "\n",
    "# Permission is hereby granted, free of charge, to any person obtaining a copy\n",
    "# of this software and associated documentation files (the \"Software\"), to deal\n",
    "# in the Software without restriction, including without limitation the rights\n",
    "# to use, copy, modify, merge, publish, distribute, sublicense, and/or sell\n",
    "# copies of the Software, and to permit persons to whom the Software is\n",
    "# furnished to do so, subject to the following conditions:\n",
    "\n",
    "# The above copyright notice and this permission notice shall be included in all\n",
    "# copies or substantial portions of the Software.\n",
    "\n",
    "# THE SOFTWARE IS PROVIDED \"AS IS\", WITHOUT WARRANTY OF ANY KIND, EXPRESS OR\n",
    "# IMPLIED, INCLUDING BUT NOT LIMITED TO THE WARRANTIES OF MERCHANTABILITY,\n",
    "# FITNESS FOR A PARTICULAR PURPOSE AND NONINFRINGEMENT. IN NO EVENT SHALL THE\n",
    "# AUTHORS OR COPYRIGHT HOLDERS BE LIABLE FOR ANY CLAIM, DAMAGES OR OTHER\n",
    "# LIABILITY, WHETHER IN AN ACTION OF CONTRACT, TORT OR OTHERWISE, ARISING FROM,\n",
    "# OUT OF OR IN CONNECTION WITH THE SOFTWARE OR THE USE OR OTHER DEALINGS IN THE\n",
    "# SOFTWARE.\n",
    "\n",
    "TR = np.asarray([[1, 0, 0, 50],\n",
    "                 [0,  1, 0, 40],  # noqa: E241\n",
    "                 [0,             0,      1, 15],  # noqa: E241\n",
    "                 [0,             0,      0, 1]])  # noqa: E241\n",
    "\n",
    "DEG: int = 27\n",
    "ϕ: float = - DEG / 180 * π\n",
    "RO = np.asarray([[np.cos(ϕ), -np.sin(ϕ), 0, 0],  # noqa: E241, E201\n",
    "                 [np.sin(ϕ),  np.cos(ϕ), 0, 0],  # noqa: E241\n",
    "                 [     0,         0,     1, 0],  # noqa: E241, E201\n",
    "                 [     0,         0,     0, 1]])  # noqa: E241, E201\n",
    "\n",
    "X_bar: float = 275\n",
    "Y_bar: float = 200\n",
    "Z_bar: float = 0\n",
    "C1 = np.asarray([[1, 0, 0, X_bar],\n",
    "                 [0, 1, 0, Y_bar],\n",
    "                 [0, 0, 1, Z_bar],\n",
    "                 [0, 0, 0,    1]])  # noqa: E241\n",
    "C2 = np.linalg.inv(C1)\n",
    "\n",
    "AFF = C1 @ RO @ C2 @ TR\n",
    "INV = np.linalg.inv(AFF)"
   ]
  },
  {
   "cell_type": "code",
   "execution_count": 3,
   "id": "daddd262-844f-42b4-8310-d53d1c15eacb",
   "metadata": {},
   "outputs": [],
   "source": [
    "transformation_matrix = INV[:3, :3]\n",
    "\n",
    "translation_vector = INV[:3, 3]"
   ]
  },
  {
   "cell_type": "code",
   "execution_count": 4,
   "id": "991472a0-81d5-4f2e-8e58-838e11bb0366",
   "metadata": {},
   "outputs": [],
   "source": [
    "def save_array_ass_nii(array, filename, fake_GT):\n",
    "    \"\"\"\n",
    "    Converts a 3D NumPy array into a NIfTI (.nii) file.\n",
    "    \n",
    "    Args:\n",
    "        array (np.ndarray): 3D NumPy array to be converted.\n",
    "        filename (str): Path to save the NIfTI file (with .nii extension).\n",
    "    \n",
    "    Returns:\n",
    "        None\n",
    "    \"\"\"\n",
    "    # Convert NumPy array to a NIfTI image\n",
    "    nii_image = nib.Nifti1Image(array, affine=fake_GT.affine, header=fake_GT.header)\n",
    "    \n",
    "    # Save the NIfTI image to a file\n",
    "    nib.save(nii_image, filename)"
   ]
  },
  {
   "cell_type": "code",
   "execution_count": 7,
   "id": "271b47db-4e2d-44b9-95b1-240e5b19a98c",
   "metadata": {},
   "outputs": [],
   "source": [
    "# iterate over patients\n",
    "for patient_number in range(1, 41):\n",
    "    patient_ID = \"{:02d}\".format(patient_number)\n",
    "    print(f\"working on patient {patient_ID}\")\n",
    "    fake_nii = nib.load(Path(\"..\") / \"data\" / \"segthor_train\" / \"train\" / f\"Patient_{patient_ID}\" / \"GT.nii.gz\")\n",
    "    fake_array = np.array(fake_nii.dataobj)\n",
    "\n",
    "    # save non-heart organs\n",
    "    saved_fake_array = np.copy(fake_array)\n",
    "    saved_fake_array[saved_fake_array == 2] = 0\n",
    "\n",
    "    # mask with only the heart\n",
    "    fake_array = (fake_array == 2)\n",
    "\n",
    "    transformed_array = affine_transform(\n",
    "        fake_array, \n",
    "        transformation_matrix,  # The 3x3 transformation matrix (rotation + scale + shear)\n",
    "        offset=translation_vector,  # The translation vector\n",
    "        order=0 # uses nearest-neighbor interpolation\n",
    "    )\n",
    "    # re-add the other organs\n",
    "    saved_fake_array[transformed_array == 1] = 2\n",
    "\n",
    "    # save the found array\n",
    "    save_array_ass_nii(saved_fake_array, Path(\"..\") / \"data\" / \"segthor_train\" / \"train\" / f\"Patient_{patient_number}\" / \"real_GT.nii.gz\", fake_nii)"
   ]
  },
  {
   "cell_type": "code",
   "execution_count": null,
   "id": "5225f539-f15a-4e98-bc9c-8d07a822cc7c",
   "metadata": {},
   "outputs": [],
   "source": []
  }
 ],
 "metadata": {
  "kernelspec": {
   "display_name": "Python 3 (ipykernel)",
   "language": "python",
   "name": "python3"
  },
  "language_info": {
   "codemirror_mode": {
    "name": "ipython",
    "version": 3
   },
   "file_extension": ".py",
   "mimetype": "text/x-python",
   "name": "python",
   "nbconvert_exporter": "python",
   "pygments_lexer": "ipython3",
   "version": "3.11.9"
  }
 },
 "nbformat": 4,
 "nbformat_minor": 5
}
