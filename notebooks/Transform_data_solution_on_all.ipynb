{
 "cells": [
  {
   "cell_type": "code",
   "execution_count": 1,
   "id": "8d467f2c-43cc-4d9b-a786-1939aac3d047",
   "metadata": {},
   "outputs": [],
   "source": [
    "import numpy as np\n",
    "import nibabel as nib\n",
    "from pathlib import Path"
   ]
  },
  {
   "cell_type": "code",
   "execution_count": 40,
   "id": "4349ec17-08e8-4508-857d-3b4fb37ac93f",
   "metadata": {},
   "outputs": [],
   "source": [
    "real_27 = nib.load(Path(\"..\") / \"data\" / \"segthor_train\" / \"train\" / \"Patient_27\" / \"GT2.nii.gz\")\n",
    "fake_27 = nib.load(Path(\"..\") / \"data\" / \"segthor_train\" / \"train\" / \"Patient_27\" / \"GT.nii.gz\")\n",
    "real_27_array = np.array(real_27.dataobj)\n",
    "fake_27_array = np.array(fake_27.dataobj)\n",
    "\n",
    "# look only to transform the heart\n",
    "real_27_array = (real_27_array == 2)\n",
    "fake_27_array = (fake_27_array == 2)"
   ]
  },
  {
   "cell_type": "code",
   "execution_count": 42,
   "id": "e744b2fd-298e-4f3c-b1a9-478c8e565735",
   "metadata": {},
   "outputs": [],
   "source": [
    "# find translation vector\n",
    "def find_centroid(array):\n",
    "    indices = np.argwhere(array == 1)  # Find points where array == 1\n",
    "    centroid = np.mean(indices, axis=0)  # Compute mean of these points\n",
    "    return centroid\n",
    "\n",
    "centroid_real = find_centroid(real_27_array)\n",
    "centroid_fake = find_centroid(fake_27_array)\n",
    "\n",
    "translation_vector = centroid_real - centroid_fake"
   ]
  },
  {
   "cell_type": "code",
   "execution_count": 67,
   "id": "68e74568-d56d-416a-9109-fc50952afafc",
   "metadata": {},
   "outputs": [],
   "source": [
    "def test_rotation(real_array, fake_array, translation_vector, alpha, beta, gamma):\n",
    "    rotation_matrix = np.asarray([[(np.cos(alpha) * np.cos(beta)) , np.sin(alpha)*np.sin(beta)*np.cos(gamma) - np.cos(alpha)*np.sin(gamma) , np.cos(alpha)*np.sin(beta)*np.cos(gamma) + np.sin(alpha)*np.sin(gamma) , 0],\n",
    "                                 [(np.sin(alpha) * np.cos(beta))  , np.sin(alpha)*np.sin(beta)*np.sin(gamma) + np.cos(alpha)*np.cos(gamma) , np.cos(alpha)*np.sin(beta)*np.sin(gamma) + np.sin(alpha)*np.cos(gamma) , 0], \n",
    "                                 [     -np.sin(alpha)             , np.cos(alpha)*np.cos(beta)                                             , np.cos(alpha)*np.cos(beta)                                             , 0], \n",
    "                                 [     0,         0,     0, 1]])\n",
    "\n",
    "    found_fake_array = affine_transform(\n",
    "        fake_array, \n",
    "        rotation_matrix,\n",
    "        offset=translation_vector,\n",
    "        order=0 # uses nearest-neighbor interpolation\n",
    "    )\n",
    "\n",
    "    overlap = np.sum(real_array & found_fake_array)\n",
    "                    \n",
    "    return overlap, rotation_matrix"
   ]
  },
  {
   "cell_type": "code",
   "execution_count": 64,
   "id": "22f78666-4a21-48c5-92a5-7253e48b39ed",
   "metadata": {},
   "outputs": [],
   "source": [
    "best_overlap = 0\n",
    "\n",
    "# this would take a while\n",
    "for alpha in range(0,360,0.1):\n",
    "    for beta in range(0,360,0.1):\n",
    "        for gamma in range(0,360,0.1):\n",
    "            found_overlap, found_matrix = test_rotation(real_27_array, fake_27_array, translation_vector, alpha, beta, gamma)\n",
    "\n",
    "            if found_overlap > best_overlap:\n",
    "                rotation_matrix = found_matrix"
   ]
  },
  {
   "cell_type": "code",
   "execution_count": 5,
   "id": "993b517f-200e-4107-ae00-c7e13d0ffc82",
   "metadata": {},
   "outputs": [],
   "source": [
    "def save_array_ass_nii(array, filename, fake_GT):\n",
    "    \"\"\"\n",
    "    Converts a 3D NumPy array into a NIfTI (.nii) file.\n",
    "    \n",
    "    Args:\n",
    "        array (np.ndarray): 3D NumPy array to be converted.\n",
    "        filename (str): Path to save the NIfTI file (with .nii extension).\n",
    "    \n",
    "    Returns:\n",
    "        None\n",
    "    \"\"\"\n",
    "    # Convert NumPy array to a NIfTI image\n",
    "    nii_image = nib.Nifti1Image(array, affine=fake_GT.affine, header=fake_GT.header)\n",
    "    \n",
    "    # Save the NIfTI image to a file\n",
    "    nib.save(nii_image, filename)"
   ]
  },
  {
   "cell_type": "code",
   "execution_count": 16,
   "id": "b8d097d4-602a-435f-bb2a-e0914b428365",
   "metadata": {},
   "outputs": [
    {
     "name": "stdout",
     "output_type": "stream",
     "text": [
      "working on patient 01\n",
      "working on patient 02\n",
      "working on patient 03\n",
      "working on patient 04\n",
      "working on patient 05\n",
      "working on patient 06\n",
      "working on patient 07\n",
      "working on patient 08\n",
      "working on patient 09\n",
      "working on patient 10\n",
      "working on patient 11\n",
      "working on patient 12\n",
      "working on patient 13\n",
      "working on patient 14\n",
      "working on patient 15\n",
      "working on patient 16\n",
      "working on patient 17\n",
      "working on patient 18\n",
      "working on patient 19\n",
      "working on patient 20\n",
      "working on patient 21\n",
      "working on patient 22\n",
      "working on patient 23\n",
      "working on patient 24\n",
      "working on patient 25\n",
      "working on patient 26\n",
      "working on patient 27\n",
      "working on patient 28\n",
      "working on patient 29\n",
      "working on patient 30\n",
      "working on patient 31\n",
      "working on patient 32\n",
      "working on patient 33\n",
      "working on patient 34\n",
      "working on patient 35\n",
      "working on patient 36\n",
      "working on patient 37\n",
      "working on patient 38\n",
      "working on patient 39\n",
      "Done\n"
     ]
    }
   ],
   "source": [
    "# iterate over patients\n",
    "for patient_number in range(1, 40):\n",
    "    patient_number = \"{:02d}\".format(patient_number)\n",
    "    print(f\"working on patient {patient_number}\")\n",
    "    fake_nii = nib.load(Path(\"..\") / \"data\" / \"segthor_train\" / \"train\" / f\"Patient_{patient_number}\" / \"GT.nii.gz\")\n",
    "    fake_array = np.array(fake_nii.dataobj)\n",
    "\n",
    "    # save non-heart organs\n",
    "    saved_fake_array = np.copy(fake_array)\n",
    "    saved_fake_array[saved_fake_array == 2] = 0\n",
    "\n",
    "    # mask with only the heart\n",
    "    fake_array = (fake_array == 2)\n",
    "\n",
    "    found_fake_array = affine_transform(\n",
    "        fake_array, \n",
    "        rotation_matrix,\n",
    "        offset=translation_vector,\n",
    "        order=0 # uses nearest-neighbor interpolation\n",
    "    )\n",
    "    \n",
    "    # re-add the other organs\n",
    "    saved_fake_array[found_fake_array == 1] = 2\n",
    "\n",
    "    # save the found array\n",
    "    save_array_ass_nii(saved_fake_array, Path(\"..\") / \"data\" / \"segthor_train\" / \"train\" / f\"Patient_{patient_number}\" / \"real_GT.nii.gz\", fake_nii)\n",
    "print(\"Done\")"
   ]
  },
  {
   "cell_type": "code",
   "execution_count": null,
   "id": "d0c5444d-a858-458c-aab0-c65f43a25b9a",
   "metadata": {},
   "outputs": [],
   "source": []
  }
 ],
 "metadata": {
  "kernelspec": {
   "display_name": "Python 3 (ipykernel)",
   "language": "python",
   "name": "python3"
  },
  "language_info": {
   "codemirror_mode": {
    "name": "ipython",
    "version": 3
   },
   "file_extension": ".py",
   "mimetype": "text/x-python",
   "name": "python",
   "nbconvert_exporter": "python",
   "pygments_lexer": "ipython3",
   "version": "3.11.9"
  }
 },
 "nbformat": 4,
 "nbformat_minor": 5
}
